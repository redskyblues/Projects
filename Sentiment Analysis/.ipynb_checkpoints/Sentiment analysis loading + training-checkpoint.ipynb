{
 "cells": [
  {
   "cell_type": "code",
   "execution_count": 11,
   "id": "77e1885b",
   "metadata": {},
   "outputs": [
    {
     "name": "stderr",
     "output_type": "stream",
     "text": [
      "2023-02-14 21:27:36.410997: I tensorflow/core/platform/cpu_feature_guard.cc:193] This TensorFlow binary is optimized with oneAPI Deep Neural Network Library (oneDNN) to use the following CPU instructions in performance-critical operations:  SSE4.1 SSE4.2\n",
      "To enable them in other operations, rebuild TensorFlow with the appropriate compiler flags.\n"
     ]
    },
    {
     "name": "stdout",
     "output_type": "stream",
     "text": [
      "179\n",
      "{\"hadn't\", \"don't\", 'shouldn', \"wouldn't\", 'hers', 'only', \"you've\", 'doing', \"doesn't\", 'nor', 'll', 'my', 'too', 'if', \"you'll\", 'same', 'ours', \"shan't\", 'herself', 'won', \"mightn't\", \"didn't\", 'again', 'ourselves', 'his', 'through', \"won't\", 'for', 'so', 'himself'}\n"
     ]
    }
   ],
   "source": [
    "#pre-amble\n",
    "\n",
    "import nltk\n",
    "from nltk.corpus import stopwords\n",
    "from nltk.tokenize import word_tokenize\n",
    "import pandas as pd\n",
    "import numpy as np\n",
    "from sklearn.model_selection import train_test_split\n",
    "\n",
    "import torch\n",
    "from transformers import BertTokenizer, BertForSequenceClassification\n",
    "from torch.utils.data import DataLoader, Dataset\n",
    "\n",
    "\n",
    "\n",
    "# pre processing to remove unnecessary 'filler' words\n",
    "stop_words = set(stopwords.words('english'))\n",
    "\n",
    "print(len(stop_words))\n",
    "stop_words_list = list(stop_words)\n",
    "sliced_stop_words = set(stop_words_list[:30])  # slice the first 10 words\n",
    "\n",
    "print(sliced_stop_words)\n"
   ]
  },
  {
   "cell_type": "code",
   "execution_count": 12,
   "id": "ca74cb1f",
   "metadata": {},
   "outputs": [
    {
     "name": "stdout",
     "output_type": "stream",
     "text": [
      "(50000, 2)\n",
      "Index(['review', 'sentiment'], dtype='object')\n",
      "                                              review sentiment\n",
      "0  One of the other reviewers has mentioned that ...  positive\n",
      "1  A wonderful little production. <br /><br />The...  positive\n",
      "2  I thought this was a wonderful way to spend ti...  positive\n",
      "3  Basically there's a family where a little boy ...  negative\n",
      "4  Petter Mattei's \"Love in the Time of Money\" is...  positive\n",
      "Number of rows in the training set:  40000\n",
      "Number of rows in the validation set:  10000\n"
     ]
    }
   ],
   "source": [
    "# Load the data\n",
    "data = pd.read_csv('IMDB Dataset.csv')  # function to load the data\n",
    "\n",
    "print(np.shape(data))\n",
    "print(data.columns)\n",
    "\n",
    "print(data.head())\n",
    "\n",
    "# split the data into training and validation sets\n",
    "train_data, val_data = train_test_split(data, test_size=0.2, random_state=42)\n",
    "\n",
    "# print the number of rows in each set\n",
    "print(\"Number of rows in the training set: \", len(train_data))\n",
    "print(\"Number of rows in the validation set: \", len(val_data))"
   ]
  },
  {
   "cell_type": "code",
   "execution_count": 13,
   "id": "04344123",
   "metadata": {},
   "outputs": [],
   "source": [
    "def preprocess(text):\n",
    "    words = word_tokenize(text)\n",
    "    words = [word.lower() for word in words if word.isalpha() and word not in stop_words]\n",
    "    return ' '.join(words)"
   ]
  },
  {
   "cell_type": "code",
   "execution_count": 14,
   "id": "2e1b47d8",
   "metadata": {},
   "outputs": [],
   "source": [
    "# Preprocess the texts\n",
    "for i in range(len(data)):\n",
    "    data.loc[i, 'review'] = preprocess(data.loc[i, 'review'])\n",
    "    data.loc[i, 'sentiment'] = 1 if data.loc[i, 'sentiment'] == 'positive' else 0"
   ]
  },
  {
   "cell_type": "code",
   "execution_count": 15,
   "id": "c4cd0901",
   "metadata": {},
   "outputs": [
    {
     "name": "stdout",
     "output_type": "stream",
     "text": [
      "                                              review sentiment\n",
      "0  one reviewers mentioned watching oz episode ho...         1\n",
      "1  a wonderful little production br br the filmin...         1\n",
      "2  i thought wonderful way spend time hot summer ...         1\n",
      "3  basically family little boy jake thinks zombie...         0\n",
      "4  petter mattei love time money visually stunnin...         1\n",
      "5  probably favorite movie story selflessness sac...         1\n",
      "6  i sure would like see resurrection dated seahu...         1\n",
      "7  this show amazing fresh innovative idea first ...         0\n",
      "8  encouraged positive comments film i looking fo...         0\n",
      "9  if like original gut wrenching laughter like m...         1\n"
     ]
    }
   ],
   "source": [
    "print(data.head(10))"
   ]
  },
  {
   "cell_type": "code",
   "execution_count": 16,
   "id": "0c7ea869",
   "metadata": {},
   "outputs": [],
   "source": [
    "#first loading train and test data into batches\n",
    "train_dataloader = DataLoader(train_data, batch_size=32, shuffle=True)\n",
    "test_dataloader = DataLoader(val_data, batch_size=32, shuffle=True)\n"
   ]
  },
  {
   "cell_type": "code",
   "execution_count": 17,
   "id": "e74a5327",
   "metadata": {},
   "outputs": [
    {
     "data": {
      "application/vnd.jupyter.widget-view+json": {
       "model_id": "4135609e57894581a5f0c376430e7699",
       "version_major": 2,
       "version_minor": 0
      },
      "text/plain": [
       "Downloading:   0%|          | 0.00/232k [00:00<?, ?B/s]"
      ]
     },
     "metadata": {},
     "output_type": "display_data"
    },
    {
     "data": {
      "application/vnd.jupyter.widget-view+json": {
       "model_id": "348e53f4f0ee4f089e591183d33e3524",
       "version_major": 2,
       "version_minor": 0
      },
      "text/plain": [
       "Downloading:   0%|          | 0.00/28.0 [00:00<?, ?B/s]"
      ]
     },
     "metadata": {},
     "output_type": "display_data"
    },
    {
     "data": {
      "application/vnd.jupyter.widget-view+json": {
       "model_id": "4f50c5b8b26943168a21e4111549e2f6",
       "version_major": 2,
       "version_minor": 0
      },
      "text/plain": [
       "Downloading:   0%|          | 0.00/570 [00:00<?, ?B/s]"
      ]
     },
     "metadata": {},
     "output_type": "display_data"
    },
    {
     "data": {
      "application/vnd.jupyter.widget-view+json": {
       "model_id": "9f3299205c7c4feb8ca9aa84e6a0cdf3",
       "version_major": 2,
       "version_minor": 0
      },
      "text/plain": [
       "Downloading:   0%|          | 0.00/440M [00:00<?, ?B/s]"
      ]
     },
     "metadata": {},
     "output_type": "display_data"
    },
    {
     "name": "stderr",
     "output_type": "stream",
     "text": [
      "Some weights of the model checkpoint at bert-base-uncased were not used when initializing BertForSequenceClassification: ['cls.predictions.transform.LayerNorm.bias', 'cls.predictions.decoder.weight', 'cls.predictions.transform.dense.bias', 'cls.predictions.bias', 'cls.seq_relationship.weight', 'cls.seq_relationship.bias', 'cls.predictions.transform.LayerNorm.weight', 'cls.predictions.transform.dense.weight']\n",
      "- This IS expected if you are initializing BertForSequenceClassification from the checkpoint of a model trained on another task or with another architecture (e.g. initializing a BertForSequenceClassification model from a BertForPreTraining model).\n",
      "- This IS NOT expected if you are initializing BertForSequenceClassification from the checkpoint of a model that you expect to be exactly identical (initializing a BertForSequenceClassification model from a BertForSequenceClassification model).\n",
      "Some weights of BertForSequenceClassification were not initialized from the model checkpoint at bert-base-uncased and are newly initialized: ['classifier.bias', 'classifier.weight']\n",
      "You should probably TRAIN this model on a down-stream task to be able to use it for predictions and inference.\n"
     ]
    }
   ],
   "source": [
    "# Load the BERT tokenizer and model\n",
    "tokenizer = BertTokenizer.from_pretrained('bert-base-uncased')\n",
    "model = BertForSequenceClassification.from_pretrained('bert-base-uncased', num_labels=2)"
   ]
  },
  {
   "cell_type": "raw",
   "id": "57ba082f",
   "metadata": {},
   "source": []
  },
  {
   "cell_type": "code",
   "execution_count": null,
   "id": "8a5617dc",
   "metadata": {},
   "outputs": [],
   "source": []
  }
 ],
 "metadata": {
  "kernelspec": {
   "display_name": "Python 3 (ipykernel)",
   "language": "python",
   "name": "python3"
  },
  "language_info": {
   "codemirror_mode": {
    "name": "ipython",
    "version": 3
   },
   "file_extension": ".py",
   "mimetype": "text/x-python",
   "name": "python",
   "nbconvert_exporter": "python",
   "pygments_lexer": "ipython3",
   "version": "3.9.15"
  }
 },
 "nbformat": 4,
 "nbformat_minor": 5
}
